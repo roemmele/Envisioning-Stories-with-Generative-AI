{
  "cells": [
    {
      "cell_type": "markdown",
      "metadata": {},
      "source": [
        "## Visual e-reader: basic functionality\n",
        "\n",
        "This notebook shows the core design of the \"visual e-reader\" application, which envisions selected passages in a story.\n",
        "\n",
        "Given a story and one particular fragment in the story to visualize, an LLM is used to generate a scene description for the fragment. This scene description is used as the prompt for a text-to-image model in order to depict the fragment."
      ]
    },
    {
      "cell_type": "code",
      "execution_count": null,
      "metadata": {},
      "outputs": [],
      "source": [
        "with open(\"llm_prompt.txt\", \"r\") as f:\n",
        "    llm_prompt_template = f.read()\n",
        "print(llm_prompt_template)"
      ]
    },
    {
      "cell_type": "code",
      "execution_count": null,
      "metadata": {},
      "outputs": [],
      "source": [
        "story = (\"Lisa has a beautiful sapphire ring. \"\n",
        "\"She always takes it off to wash her hands. \"\n",
        "\"One afternoon, she noticed it was missing from her finger! \"\n",
        "\"Lisa searched everywhere she had been that day. \"\n",
        "\"She was elated when she found it on the bathroom floor!\")"
      ]
    },
    {
      "cell_type": "code",
      "execution_count": null,
      "metadata": {},
      "outputs": [],
      "source": [
        "llm_prompt = llm_prompt_template.format(\n",
        "    story=story,\n",
        "    fragment=\"She was elated when she found it on the bathroom floor!\")"
      ]
    },
    {
      "cell_type": "code",
      "execution_count": null,
      "metadata": {},
      "outputs": [],
      "source": [
        "import replicate, os\n",
        "\n",
        "client = replicate.client.Client(api_token=os.environ[\"REPLICATE_API_KEY\"])\n",
        "scene_description = \"\".join(client.run(\n",
        "    \"meta/meta-llama-3.1-405b-instruct\",\n",
        "    input={\"prompt\": llm_prompt}))\n",
        "print(scene_description)"
      ]
    },
    {
      "cell_type": "code",
      "execution_count": null,
      "metadata": {},
      "outputs": [],
      "source": [
        "from IPython.display import Image\n",
        "\n",
        "url = client.run(\"black-forest-labs/flux-1.1-pro\",\n",
        "                 input={\"prompt\": scene_description,\n",
        "                        \"output_format\": \"png\"})\n",
        "Image(url, width=300)"
      ]
    },
    {
      "cell_type": "code",
      "execution_count": null,
      "metadata": {},
      "outputs": [],
      "source": []
    }
  ],
  "metadata": {
    "kernelspec": {
      "display_name": "python3-12",
      "language": "python",
      "name": "python3"
    },
    "language_info": {
      "codemirror_mode": {
        "name": "ipython",
        "version": 3
      },
      "file_extension": ".py",
      "mimetype": "text/x-python",
      "name": "python",
      "nbconvert_exporter": "python",
      "pygments_lexer": "ipython3",
      "version": "3.12.4"
    }
  },
  "nbformat": 4,
  "nbformat_minor": 2
}
